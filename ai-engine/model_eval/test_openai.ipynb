{
 "cells": [
  {
   "cell_type": "markdown",
   "id": "c3ce7554",
   "metadata": {},
   "source": [
    "## 1. 임포트"
   ]
  },
  {
   "cell_type": "code",
   "execution_count": null,
   "id": "5f733f49",
   "metadata": {},
   "outputs": [],
   "source": [
    "# import 및 환경변수 설정\n",
    "import os\n",
    "import openai\n",
    "import pandas as pd\n",
    "import time\n",
    "from sklearn.feature_extraction.text import TfidfVectorizer\n",
    "from sklearn.metrics.pairwise import cosine_similarity\n",
    "\n",
    "# 지정된 데이터 불러옴\n",
    "from test_data import DOG_PROFILES, QUESTIONS\n",
    "\n",
    "# openai 키\n",
    "openai.api_key =\"\""
   ]
  },
  {
   "cell_type": "code",
   "execution_count": null,
   "id": "47a7df36",
   "metadata": {},
   "outputs": [],
   "source": [
    "# 테스트용 (2 * 4set 8회 테스트)\n",
    "\n",
    "DOG_PROFILES=[\n",
    "    {\n",
    "        \"dog_name\": \"코코\",\n",
    "        \"dog_breed\": \"말티즈\",\n",
    "        \"dog_age\": 3,\n",
    "        \"dog_gender\": \"여아\",\n",
    "        \"dog_neutered\": \"중성화 완료\",\n",
    "        \"dog_disease\": \"없음\",\n",
    "        \"dog_disease_detail\": \"\",\n",
    "        \"dog_period\": \"② 1년 이상~3년 미만\",\n",
    "        \"dog_housing\": \"아파트\"\n",
    "    },\n",
    "    {\n",
    "        \"dog_name\": \"보리\",\n",
    "        \"dog_breed\": \"푸들\",\n",
    "        \"dog_age\": 2,\n",
    "        \"dog_gender\": \"남아\",\n",
    "        \"dog_neutered\": \"중성화 미완료\",\n",
    "        \"dog_disease\": \"없음\",\n",
    "        \"dog_disease_detail\": \"\",\n",
    "        \"dog_period\": \"① 1년 미만\",\n",
    "        \"dog_housing\": \"아파트\"\n",
    "    }\n",
    "]\n",
    "\n",
    "QUESTIONS = [\n",
    "    '식사 후 구토를 자주 해요. 위장이 약한 걸까요?', \n",
    "    '요즘 문만 열면 밖으로 도망가려고 해요. 스트레스 때문일까요?', \n",
    "    '요즘 발바닥을 자꾸 핥아요. 발에 이상 있는 걸까요?',\n",
    "    '배변을 너무 자주 해요. 하루에 5번은 넘는 것 같은데 정상일까요?', \n",
    "]"
   ]
  },
  {
   "cell_type": "markdown",
   "id": "f62c7b91",
   "metadata": {},
   "source": [
    "## 2. 프로필 프롬프트"
   ]
  },
  {
   "cell_type": "code",
   "execution_count": 2,
   "id": "e7cbc5a7",
   "metadata": {},
   "outputs": [],
   "source": [
    "def profile_to_text(profile: dict) -> str:\n",
    "    \"\"\"빈 값은 생략하여 반려견 정보를 자연스럽게 텍스트로 구성\"\"\"\n",
    "    fields = {\n",
    "        \"이름\": profile.get(\"dog_name\"),\n",
    "        \"견종\": profile.get(\"dog_breed\"),\n",
    "        \"나이\": f\"{profile.get('dog_age')}세\" if profile.get(\"dog_age\") else None,\n",
    "        \"성별\": profile.get(\"dog_gender\"),\n",
    "        \"중성화 여부\": profile.get(\"dog_neutered\"),\n",
    "        \"질병\": profile.get(\"dog_disease\"),\n",
    "        \"세부 질병\": profile.get(\"dog_disease_detail\"),\n",
    "        \"보호기간\": profile.get(\"dog_period\"),\n",
    "        \"주거형태\": profile.get(\"dog_housing\")\n",
    "    }\n",
    "    return \", \".join(f\"{k}: {v}\" for k, v in fields.items() if v)\n"
   ]
  },
  {
   "cell_type": "code",
   "execution_count": 3,
   "id": "297e2d58",
   "metadata": {},
   "outputs": [
    {
     "data": {
      "text/plain": [
       "'이름: 보리, 견종: 푸들, 나이: 2세, 성별: 남아, 중성화 여부: 중성화 미완료, 질병: 없음, 보호기간: ① 1년 미만, 주거형태: 아파트'"
      ]
     },
     "execution_count": 3,
     "metadata": {},
     "output_type": "execute_result"
    }
   ],
   "source": [
    "profile_to_text(DOG_PROFILES[1])"
   ]
  },
  {
   "cell_type": "markdown",
   "id": "e3d7031e",
   "metadata": {},
   "source": [
    "## 3. 모델 응답 함수"
   ]
  },
  {
   "cell_type": "code",
   "execution_count": 4,
   "id": "df1c867f",
   "metadata": {},
   "outputs": [],
   "source": [
    "MODEL_NAME = \"gpt-4\"\n",
    "TEMPERATURE = 0.7\n",
    "\n",
    "def get_openai_response(prompt: str) -> str:\n",
    "    response = openai.chat.completions.create(\n",
    "        model=MODEL_NAME,\n",
    "        messages=[{\"role\": \"user\", \"content\": prompt}],\n",
    "        temperature=TEMPERATURE\n",
    "    )\n",
    "    return response.choices[0].message.content.strip()\n",
    "\n"
   ]
  },
  {
   "cell_type": "markdown",
   "id": "5dd6c91a",
   "metadata": {},
   "source": [
    "## 4. 테스트 실행 반복"
   ]
  },
  {
   "cell_type": "code",
   "execution_count": null,
   "id": "e85180b7",
   "metadata": {},
   "outputs": [],
   "source": [
    "results = []\n",
    "\n",
    "for idx, profile in enumerate(DOG_PROFILES, 1):\n",
    "    profile_text = profile_to_text(profile)\n",
    "\n",
    "    for question in QUESTIONS:\n",
    "        prompt = f\"반려견 정보: {profile_text}\\n질문: {question}\\n답변:\"\n",
    "        start = time.time()\n",
    "        response = get_openai_response(prompt)\n",
    "        end = time.time()\n",
    "\n",
    "        elapsed = round(end - start, 3)\n",
    "        response_length = len(response)\n",
    "\n",
    "        results.append({\n",
    "            \"profile_ID\": idx,\n",
    "            \"dog_profile\": profile_text,\n",
    "            \"question\": question,\n",
    "            \"response\": response,\n",
    "            \"time\": elapsed,\n",
    "            \"length\": response_length,\n",
    "            \"speed_per_sec\": round(response_length / elapsed, 2) if elapsed > 0 else 0,\n",
    "            \"speed_per_text\": round(elapsed / response_length, 4) if response_length > 0 else 0,\n",
    "        })\n",
    "        \n",
    "        # 진행 확인\n",
    "        print(f'{idx} | 응답완료 | 질문 : {question}')\n"
   ]
  },
  {
   "cell_type": "markdown",
   "id": "e9ebafa7",
   "metadata": {},
   "source": [
    "## 5. 결과 저장"
   ]
  },
  {
   "cell_type": "code",
   "execution_count": 6,
   "id": "a481f718",
   "metadata": {},
   "outputs": [],
   "source": [
    "df = pd.DataFrame(results)\n",
    "df.to_csv(\"./results/openai_results.csv\", index=False, encoding=\"utf-8-sig\")"
   ]
  }
 ],
 "metadata": {
  "kernelspec": {
   "display_name": "pystudy_env",
   "language": "python",
   "name": "python3"
  },
  "language_info": {
   "codemirror_mode": {
    "name": "ipython",
    "version": 3
   },
   "file_extension": ".py",
   "mimetype": "text/x-python",
   "name": "python",
   "nbconvert_exporter": "python",
   "pygments_lexer": "ipython3",
   "version": "3.12.9"
  }
 },
 "nbformat": 4,
 "nbformat_minor": 5
}
